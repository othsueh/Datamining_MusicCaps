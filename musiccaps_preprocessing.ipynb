{
 "cells": [
  {
   "cell_type": "markdown",
   "metadata": {},
   "source": [
    "### Library import"
   ]
  },
  {
   "cell_type": "code",
   "execution_count": 2,
   "metadata": {},
   "outputs": [],
   "source": [
    "import pandas as pd\n",
    "import numpy as np"
   ]
  },
  {
   "cell_type": "markdown",
   "metadata": {},
   "source": [
    "### Load Data"
   ]
  },
  {
   "cell_type": "code",
   "execution_count": 3,
   "metadata": {},
   "outputs": [
    {
     "data": {
      "text/html": [
       "<div>\n",
       "<style scoped>\n",
       "    .dataframe tbody tr th:only-of-type {\n",
       "        vertical-align: middle;\n",
       "    }\n",
       "\n",
       "    .dataframe tbody tr th {\n",
       "        vertical-align: top;\n",
       "    }\n",
       "\n",
       "    .dataframe thead th {\n",
       "        text-align: right;\n",
       "    }\n",
       "</style>\n",
       "<table border=\"1\" class=\"dataframe\">\n",
       "  <thead>\n",
       "    <tr style=\"text-align: right;\">\n",
       "      <th></th>\n",
       "      <th>start_s</th>\n",
       "      <th>end_s</th>\n",
       "      <th>audioset_positive_labels</th>\n",
       "      <th>aspect_list</th>\n",
       "      <th>caption</th>\n",
       "      <th>author_id</th>\n",
       "      <th>is_balanced_subset</th>\n",
       "      <th>is_audioset_eval</th>\n",
       "    </tr>\n",
       "    <tr>\n",
       "      <th>ytid</th>\n",
       "      <th></th>\n",
       "      <th></th>\n",
       "      <th></th>\n",
       "      <th></th>\n",
       "      <th></th>\n",
       "      <th></th>\n",
       "      <th></th>\n",
       "      <th></th>\n",
       "    </tr>\n",
       "  </thead>\n",
       "  <tbody>\n",
       "    <tr>\n",
       "      <th>-0Gj8-vB1q4</th>\n",
       "      <td>30</td>\n",
       "      <td>40</td>\n",
       "      <td>/m/0140xf,/m/02cjck,/m/04rlf</td>\n",
       "      <td>['low quality', 'sustained strings melody', 's...</td>\n",
       "      <td>The low quality recording features a ballad so...</td>\n",
       "      <td>4</td>\n",
       "      <td>False</td>\n",
       "      <td>True</td>\n",
       "    </tr>\n",
       "    <tr>\n",
       "      <th>-0SdAVK79lg</th>\n",
       "      <td>30</td>\n",
       "      <td>40</td>\n",
       "      <td>/m/0155w,/m/01lyv,/m/0342h,/m/042v_gx,/m/04rlf...</td>\n",
       "      <td>['guitar song', 'piano backing', 'simple percu...</td>\n",
       "      <td>This song features an electric guitar as the m...</td>\n",
       "      <td>0</td>\n",
       "      <td>False</td>\n",
       "      <td>False</td>\n",
       "    </tr>\n",
       "    <tr>\n",
       "      <th>-0vPFx-wRRI</th>\n",
       "      <td>30</td>\n",
       "      <td>40</td>\n",
       "      <td>/m/025_jnm,/m/04rlf</td>\n",
       "      <td>['amateur recording', 'finger snipping', 'male...</td>\n",
       "      <td>a male voice is singing a melody with changing...</td>\n",
       "      <td>6</td>\n",
       "      <td>False</td>\n",
       "      <td>True</td>\n",
       "    </tr>\n",
       "    <tr>\n",
       "      <th>-0xzrMun0Rs</th>\n",
       "      <td>30</td>\n",
       "      <td>40</td>\n",
       "      <td>/m/01g90h,/m/04rlf</td>\n",
       "      <td>['backing track', 'jazzy', 'digital drums', 'p...</td>\n",
       "      <td>This song contains digital drums playing a sim...</td>\n",
       "      <td>6</td>\n",
       "      <td>False</td>\n",
       "      <td>True</td>\n",
       "    </tr>\n",
       "    <tr>\n",
       "      <th>-1LrH01Ei1w</th>\n",
       "      <td>30</td>\n",
       "      <td>40</td>\n",
       "      <td>/m/02p0sh1,/m/04rlf</td>\n",
       "      <td>['rubab instrument', 'repetitive melody on dif...</td>\n",
       "      <td>This song features a rubber instrument being p...</td>\n",
       "      <td>0</td>\n",
       "      <td>False</td>\n",
       "      <td>False</td>\n",
       "    </tr>\n",
       "  </tbody>\n",
       "</table>\n",
       "</div>"
      ],
      "text/plain": [
       "             start_s  end_s  \\\n",
       "ytid                          \n",
       "-0Gj8-vB1q4       30     40   \n",
       "-0SdAVK79lg       30     40   \n",
       "-0vPFx-wRRI       30     40   \n",
       "-0xzrMun0Rs       30     40   \n",
       "-1LrH01Ei1w       30     40   \n",
       "\n",
       "                                      audioset_positive_labels  \\\n",
       "ytid                                                             \n",
       "-0Gj8-vB1q4                       /m/0140xf,/m/02cjck,/m/04rlf   \n",
       "-0SdAVK79lg  /m/0155w,/m/01lyv,/m/0342h,/m/042v_gx,/m/04rlf...   \n",
       "-0vPFx-wRRI                                /m/025_jnm,/m/04rlf   \n",
       "-0xzrMun0Rs                                 /m/01g90h,/m/04rlf   \n",
       "-1LrH01Ei1w                                /m/02p0sh1,/m/04rlf   \n",
       "\n",
       "                                                   aspect_list  \\\n",
       "ytid                                                             \n",
       "-0Gj8-vB1q4  ['low quality', 'sustained strings melody', 's...   \n",
       "-0SdAVK79lg  ['guitar song', 'piano backing', 'simple percu...   \n",
       "-0vPFx-wRRI  ['amateur recording', 'finger snipping', 'male...   \n",
       "-0xzrMun0Rs  ['backing track', 'jazzy', 'digital drums', 'p...   \n",
       "-1LrH01Ei1w  ['rubab instrument', 'repetitive melody on dif...   \n",
       "\n",
       "                                                       caption  author_id  \\\n",
       "ytid                                                                        \n",
       "-0Gj8-vB1q4  The low quality recording features a ballad so...          4   \n",
       "-0SdAVK79lg  This song features an electric guitar as the m...          0   \n",
       "-0vPFx-wRRI  a male voice is singing a melody with changing...          6   \n",
       "-0xzrMun0Rs  This song contains digital drums playing a sim...          6   \n",
       "-1LrH01Ei1w  This song features a rubber instrument being p...          0   \n",
       "\n",
       "             is_balanced_subset  is_audioset_eval  \n",
       "ytid                                               \n",
       "-0Gj8-vB1q4               False              True  \n",
       "-0SdAVK79lg               False             False  \n",
       "-0vPFx-wRRI               False              True  \n",
       "-0xzrMun0Rs               False              True  \n",
       "-1LrH01Ei1w               False             False  "
      ]
     },
     "execution_count": 3,
     "metadata": {},
     "output_type": "execute_result"
    }
   ],
   "source": [
    "data_original = pd.read_csv('musiccaps-public.csv', index_col='ytid')\n",
    "data_original.head()"
   ]
  },
  {
   "cell_type": "markdown",
   "metadata": {},
   "source": [
    "### Drop unnecessary columns\n",
    "- Value in *audioset_positive_labels* is a list of labels that come from another dataset, but it doesn't seem meaningful in this dataset, so I drop this column.\n",
    "- *aspect_list* is how annotators use characteristics to describe the music, and *caption* is annotator's feeling of the music, so I drop these two columns as well."
   ]
  },
  {
   "cell_type": "code",
   "execution_count": 4,
   "metadata": {},
   "outputs": [
    {
     "data": {
      "text/html": [
       "<div>\n",
       "<style scoped>\n",
       "    .dataframe tbody tr th:only-of-type {\n",
       "        vertical-align: middle;\n",
       "    }\n",
       "\n",
       "    .dataframe tbody tr th {\n",
       "        vertical-align: top;\n",
       "    }\n",
       "\n",
       "    .dataframe thead th {\n",
       "        text-align: right;\n",
       "    }\n",
       "</style>\n",
       "<table border=\"1\" class=\"dataframe\">\n",
       "  <thead>\n",
       "    <tr style=\"text-align: right;\">\n",
       "      <th></th>\n",
       "      <th>start_s</th>\n",
       "      <th>end_s</th>\n",
       "      <th>author_id</th>\n",
       "      <th>is_balanced_subset</th>\n",
       "      <th>is_audioset_eval</th>\n",
       "    </tr>\n",
       "    <tr>\n",
       "      <th>ytid</th>\n",
       "      <th></th>\n",
       "      <th></th>\n",
       "      <th></th>\n",
       "      <th></th>\n",
       "      <th></th>\n",
       "    </tr>\n",
       "  </thead>\n",
       "  <tbody>\n",
       "    <tr>\n",
       "      <th>-0Gj8-vB1q4</th>\n",
       "      <td>30</td>\n",
       "      <td>40</td>\n",
       "      <td>4</td>\n",
       "      <td>False</td>\n",
       "      <td>True</td>\n",
       "    </tr>\n",
       "    <tr>\n",
       "      <th>-0SdAVK79lg</th>\n",
       "      <td>30</td>\n",
       "      <td>40</td>\n",
       "      <td>0</td>\n",
       "      <td>False</td>\n",
       "      <td>False</td>\n",
       "    </tr>\n",
       "    <tr>\n",
       "      <th>-0vPFx-wRRI</th>\n",
       "      <td>30</td>\n",
       "      <td>40</td>\n",
       "      <td>6</td>\n",
       "      <td>False</td>\n",
       "      <td>True</td>\n",
       "    </tr>\n",
       "    <tr>\n",
       "      <th>-0xzrMun0Rs</th>\n",
       "      <td>30</td>\n",
       "      <td>40</td>\n",
       "      <td>6</td>\n",
       "      <td>False</td>\n",
       "      <td>True</td>\n",
       "    </tr>\n",
       "    <tr>\n",
       "      <th>-1LrH01Ei1w</th>\n",
       "      <td>30</td>\n",
       "      <td>40</td>\n",
       "      <td>0</td>\n",
       "      <td>False</td>\n",
       "      <td>False</td>\n",
       "    </tr>\n",
       "  </tbody>\n",
       "</table>\n",
       "</div>"
      ],
      "text/plain": [
       "             start_s  end_s  author_id  is_balanced_subset  is_audioset_eval\n",
       "ytid                                                                        \n",
       "-0Gj8-vB1q4       30     40          4               False              True\n",
       "-0SdAVK79lg       30     40          0               False             False\n",
       "-0vPFx-wRRI       30     40          6               False              True\n",
       "-0xzrMun0Rs       30     40          6               False              True\n",
       "-1LrH01Ei1w       30     40          0               False             False"
      ]
     },
     "execution_count": 4,
     "metadata": {},
     "output_type": "execute_result"
    }
   ],
   "source": [
    "data = data_original.drop(['audioset_positive_labels','aspect_list','caption'],axis=1)\n",
    "data.head()"
   ]
  },
  {
   "cell_type": "markdown",
   "metadata": {},
   "source": [
    "### Drop duplicated instances\n",
    "Above I remove columns about how annotators describe the music. But there may have different annotators comment on same music, so I need to drop duplicated music instances. \n",
    "\n",
    "And here I find out that there are total 4647 duplicated music instances then I drop them, and the number of instances left is 874."
   ]
  },
  {
   "cell_type": "code",
   "execution_count": 5,
   "metadata": {},
   "outputs": [
    {
     "name": "stdout",
     "output_type": "stream",
     "text": [
      "Number of instances = 5521\n",
      "Number of duplicated instances = 4647\n",
      "Number of instances after dropping duplicates = 874\n"
     ]
    }
   ],
   "source": [
    "print('Number of instances = %d' % (data.shape[0]))\n",
    "dups = data.duplicated()\n",
    "print('Number of duplicated instances = %d' % (dups.sum()))\n",
    "data = data.drop_duplicates()\n",
    "print('Number of instances after dropping duplicates = %d' % (data.shape[0]))"
   ]
  },
  {
   "cell_type": "markdown",
   "metadata": {},
   "source": [
    "### Aggregation of `start_s` and `end_s`\n",
    "Orignally I want to get the interval of each music in the dataset to make a new aggregation. But after I use `unique()`, it turns out that every interval of each sample is the same. So I give up this idea."
   ]
  },
  {
   "cell_type": "code",
   "execution_count": 6,
   "metadata": {},
   "outputs": [
    {
     "name": "stdout",
     "output_type": "stream",
     "text": [
      "[10]\n"
     ]
    }
   ],
   "source": [
    "start_s = data['start_s']\n",
    "end_s = data['end_s']\n",
    "interval = end_s - start_s\n",
    "print(interval.unique())"
   ]
  },
  {
   "cell_type": "markdown",
   "metadata": {},
   "source": [
    "### Discretize `start_s`\n",
    "I use `KBinsDiscretizer` to discretize `start_s` to 10 bins, which can give more information about the distribution of `start_s`.\n",
    "\n",
    "The reason why I don't discretize `end_s` is that interval between `start_s` in each sample is the same."
   ]
  },
  {
   "cell_type": "code",
   "execution_count": 10,
   "metadata": {},
   "outputs": [
    {
     "name": "stderr",
     "output_type": "stream",
     "text": [
      "/datas/store163/othsueh/miniconda3/envs/karina/lib/python3.9/site-packages/sklearn/preprocessing/_discretization.py:248: FutureWarning: In version 1.5 onwards, subsample=200_000 will be used by default. Set subsample explicitly to silence this warning in the mean time. Set subsample=None to disable subsampling explicitly.\n",
      "  warnings.warn(\n"
     ]
    },
    {
     "data": {
      "image/png": "[encoded data removed]",
      "text/plain": [
       "<Figure size 640x480 with 1 Axes>"
      ]
     },
     "metadata": {},
     "output_type": "display_data"
    }
   ],
   "source": [
    "%matplotlib inline\n",
    "import matplotlib.pyplot as plt\n",
    "from sklearn.preprocessing import KBinsDiscretizer\n",
    "kb = KBinsDiscretizer(n_bins=10, encode='ordinal', strategy='uniform')\n",
    "kb.fit(start_s.values.reshape(-1, 1))\n",
    "start_s_dis = kb.transform(start_s.values.reshape(-1, 1))\n",
    "data['start_s_dis'] = start_s_dis\n",
    "plt.hist(start_s_dis, bins=10)\n",
    "plt.show()"
   ]
  },
  {
   "cell_type": "markdown",
   "metadata": {},
   "source": [
    "### Make train and test data\n",
    "I use `train_test_split` to make train and test data, with 80% of data for training and 20% of data for testing."
   ]
  },
  {
   "cell_type": "code",
   "execution_count": 11,
   "metadata": {},
   "outputs": [
    {
     "name": "stdout",
     "output_type": "stream",
     "text": [
      "Number of instances in train_data = 699\n",
      "Number of instances in test_data = 175\n"
     ]
    }
   ],
   "source": [
    "from sklearn.model_selection import train_test_split\n",
    "train_data, test_data = train_test_split(data, test_size=0.2, random_state=42)\n",
    "print('Number of instances in train_data = %d' % (train_data.shape[0]))\n",
    "print('Number of instances in test_data = %d' % (test_data.shape[0]))"
   ]
  }
 ],
 "metadata": {
  "kernelspec": {
   "display_name": "karina",
   "language": "python",
   "name": "python3"
  },
  "language_info": {
   "codemirror_mode": {
    "name": "ipython",
    "version": 3
   },
   "file_extension": ".py",
   "mimetype": "text/x-python",
   "name": "python",
   "nbconvert_exporter": "python",
   "pygments_lexer": "ipython3",
   "version": "3.9.18"
  }
 },
 "nbformat": 4,
 "nbformat_minor": 2
}
